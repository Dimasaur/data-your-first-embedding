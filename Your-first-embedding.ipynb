{
 "cells": [
  {
   "cell_type": "markdown",
   "metadata": {},
   "source": [
    "# Your first embedding"
   ]
  },
  {
   "cell_type": "markdown",
   "metadata": {},
   "source": [
    "## Exercise objectives:"
   ]
  },
  {
   "cell_type": "markdown",
   "metadata": {},
   "source": [
    "- Run your first RNN for NLP\n",
    "- Get a first taste of what an embedding is\n",
    "\n",
    "<hr>\n",
    "\n",
    "Words are not something you can easily feed to a Neural Network. For this reason, we have to convert them to something more meaningful. \n",
    "\n",
    "And this is exactly what _Embeddings_ are for! They map any word onto a vectorial representation (this a fancy way to represent each word with a vector ;) ). For instance, the word `dog` can be represented by the vector $(w_1, w_2, ..., w_n)$ in the embedding space, and we will learn the weights $(w_k)_k$.\n",
    "\n",
    "So let's just do it."
   ]
  },
  {
   "cell_type": "markdown",
   "metadata": {},
   "source": [
    "# The data"
   ]
  },
  {
   "cell_type": "markdown",
   "metadata": {},
   "source": [
    "❓ **Question** ❓ Let's first load the data. You don't have to understand what is going on in the function, it does not matter here.\n",
    "\n",
    "⚠️ **Warning** ⚠️ The `load_data` function has a `percentage_of_sentences` argument. Depending on your computer, there are chances that too many sentences will make your compute slow down, or even freeze - your RAM can overflow. For that reason, **you should start with 10% of the sentences** and see if your computer handles it. Otherwise, rerun with a lower number. \n",
    "\n",
    "⚠️ **DISCLAIMER** ⚠️ **No need to play _who has the biggest_ (RAM) !** The idea is to get to run your models quickly to prototype. Even in real life, it is recommended that you start with a subset of your data to loop and debug quickly. So increase the number only if you are into getting the best accuracy. "
   ]
  },
  {
   "cell_type": "code",
   "execution_count": 10,
   "metadata": {},
   "outputs": [],
   "source": [
    "###########################################\n",
    "### Just run this cell to load the data ###\n",
    "###########################################\n",
    "\n",
    "import tensorflow_datasets as tfds\n",
    "from tensorflow.keras.preprocessing.text import text_to_word_sequence\n",
    "\n",
    "def load_data(percentage_of_sentences=None):\n",
    "    train_data, test_data = tfds.load(name=\"imdb_reviews\", split=[\"train\", \"test\"], batch_size=-1, as_supervised=True)\n",
    "\n",
    "    train_sentences, y_train = tfds.as_numpy(train_data)\n",
    "    test_sentences, y_test = tfds.as_numpy(test_data)\n",
    "\n",
    "    # Take only a given percentage of the entire data\n",
    "    if percentage_of_sentences is not None:\n",
    "        assert(percentage_of_sentences> 0 and percentage_of_sentences<=100)\n",
    "\n",
    "        len_train = int(percentage_of_sentences/100*len(train_sentences))\n",
    "        train_sentences, y_train = train_sentences[:len_train], y_train[:len_train]\n",
    "\n",
    "        len_test = int(percentage_of_sentences/100*len(test_sentences))\n",
    "        test_sentences, y_test = test_sentences[:len_test], y_test[:len_test]\n",
    "\n",
    "    X_train = [text_to_word_sequence(_.decode(\"utf-8\")) for _ in train_sentences]\n",
    "    X_test = [text_to_word_sequence(_.decode(\"utf-8\")) for _ in test_sentences]\n",
    "\n",
    "    return X_train, y_train, X_test, y_test\n",
    "\n",
    "X_train, y_train, X_test, y_test = load_data(percentage_of_sentences=10)"
   ]
  },
  {
   "cell_type": "markdown",
   "metadata": {},
   "source": [
    "Now that you have loaded the data, let's check it out!\n",
    "\n",
    "❓ **Question** ❓ You can play with the data here. In particular, `X_train` and `X_test` are lists of sentences. Let's print some of them, with their respective label stored in `y_train` and `y_test`."
   ]
  },
  {
   "cell_type": "code",
   "execution_count": 11,
   "metadata": {},
   "outputs": [],
   "source": [
    "import numpy as np"
   ]
  },
  {
   "cell_type": "code",
   "execution_count": 12,
   "metadata": {
    "tags": [
     "challengify"
    ]
   },
   "outputs": [
    {
     "name": "stdout",
     "output_type": "stream",
     "text": [
      "Film rating: 0, description: when i got this movie free from my job along with three other similar movies i watched then with very low expectations now this movie isn't bad per se you get what you pay for it is a tale of love betrayal lies sex scandal everything you want in a movie definitely not a hollywood blockbuster but for cheap thrills it is not that bad i would probably never watch this movie again in a nutshell this is the kind of movie that you would see either very late at night on a local television station that is just wanting to take up some time or you would see it on a sunday afternoon on a local television station that is trying to take up some time despite the bad acting cliché lines and sub par camera work i didn't have the desire to turn off the movie and pretend like it never popped into my dvd player the story has been done many times in many movies this one is no different no better no worse br br just your average movie\n",
      "Film rating: 1, description: yes it was a little low budget but this movie shows love the only bad things about it was that you can tell the budget on this film would not compare to waterworld and though the plot was good the film never really tapped into it's full potential strong performances from everyone and the suspense makes it worthwhile to watch on a rainy night\n",
      "Film rating: 0, description: i rented end game having never heard of it but i'm fond of political thrillers so i thought i'd give it a shot after doing some research on the movie i found that it had initially been intended for theatrical release but instead had gone strait to dvd after seeing it i'm thinking no wonder the movie is shocking in its unoriginality the plot and the characters are perfunctory i figured out whodunnit by the half way mark but the ending was a curve ball i have to say i didn't expect it to end quite the way it did but that's not a point in its favor the more predictable ending would have been preferable to one that is so bad perhaps the film makers saw how predictable the film was and so they decided to throw in a twist even one that made the movie even worse br br stay away i want the 5 98 and my 107 minutes back\n",
      "Film rating: 1, description: this movie is horrible in a 'so bad it's good' kind of way br br the storyline is rehashed from so many other films of this kind that i'm not going to even bother describing it it's a sword sorcery picture has a kid hoping to realize how important he is in this world has a nomadic adventurer an evil aide sorcerer a princess a hairy creature you get the point br br the first time i caught this movie was during a very harsh winter i don't know why i decided to continue watching it for an extra five minutes before turning the channel but when i caught site of gulfax i decided to stay and watch it until the end br br gulfax is a white furry creature akin to chewbacca but not nearly as useful or entertaining to watch he looks like someone glued a bunch of white shag carpeting together and forced the actor to wear it there are scenes where it looks like the actor cannot move within or that he's almost falling over although he isn't in the movie that much the few scenes are worth it watch as he attempts to talk smack to bo svenson taking the solo chewbacca comparison's to an even higher level br br i actually bought this movie just because of that character and still have it somewhere br br gulfax may look like sh t but he made this movie the only reason i've never seen the sequel or even sought it out was because of his absence perhaps should there be a final film completing the trilogy gulfax will make a much anticipated return\n",
      "Film rating: 0, description: i believe shakespeare explained what i just read beautifully me thinks he the lady doth protest too much the whole thing sounded to me as if the author was trying to convince himself he sites profane literature writings from the same time period but not connected with the bible a number of times however i can think of at least three references off the top of my head which lend historical accuracy to events contained in the bible anyone can skew data prove anything they like but it doesn't make it true customs change word definitions change over time look at english german where it is very obviously a common root nothing stays the same it's always growing and changing the bible has many different translations but the king james version is the one i've found to be the best when it comes to any kind of research in the king james version you will notice there are certain words written in italics these words have been added by the translators and can be dropped the mean of the entire verse changes writings from around the time of christ were written without spaces without punctuation without paragraphs without numeric verses these writings look like one long word the translators added all of the above for example how would you read this godisnowhere do you read it as god is nowhere or do you read it as god is now here same string of letters two entirely different meanings this is why many biblical researchers use a 'lexicon' to assist them in translation as it provides a word for word translation from the original arabic greek or hebrew depending on the language in which the scripture was originally written it's also interesting to note that when translated into symbolic logic you can prove god exists but you can not prove he doesn't exist in the end i just love listening to people who think they are so smart that they are qualified to judge the almighty talk about ego putting soapbox away god bless maegi\n"
     ]
    }
   ],
   "source": [
    "count = 0\n",
    "for i in range(len(X_train)):\n",
    "    if count < 5:\n",
    "        i = np.random.randint(0,len(X_train))\n",
    "        print(f\"Film rating: {y_train[i]}, description: {' '.join(X_train[i])}\")\n",
    "        count += 1\n"
   ]
  },
  {
   "cell_type": "markdown",
   "metadata": {},
   "source": [
    "**LABELS**: the task is a binary classification problem:\n",
    "- label 0️⃣ corresponds to a <font color=red>negative</font> movie review\n",
    "- label 1️⃣ corresponds to a <font color=green>positive</font> movie review\n",
    "\n",
    "**INPUTS**: \n",
    "- 🧹 The data has been partially cleaned! So you don't have to worry about it in this exercise. \n",
    "- ❗️ But don't forget this step in real-life challenges. \n",
    "\n",
    "Remember that words are not computer-compatible materials? You have to tokenize them!\n",
    "\n",
    "❓ **Question** ❓ Run the following cell to tokenize your sentences"
   ]
  },
  {
   "cell_type": "code",
   "execution_count": 13,
   "metadata": {},
   "outputs": [],
   "source": [
    "from tensorflow.keras.preprocessing.text import Tokenizer\n",
    "\n",
    "# This initializes a Keras utilities that does all the tokenization for you\n",
    "tokenizer = Tokenizer()\n",
    "\n",
    "# The tokenization learns a dictionary that maps a token (integer) to each word\n",
    "# It can be done only on the train set - we are not supposed to know the test set!\n",
    "# This tokenization also lowercases your words, apply some filters, and so on - you can check the doc if you want\n",
    "tokenizer.fit_on_texts(X_train)\n",
    "\n",
    "# We apply the tokenization to the train and test set\n",
    "X_train_token = tokenizer.texts_to_sequences(X_train)\n",
    "X_test_token = tokenizer.texts_to_sequences(X_test)"
   ]
  },
  {
   "cell_type": "markdown",
   "metadata": {},
   "source": [
    "❓ **Question** ❓ Print some of the tokenized sentences to be sure you got what you expected"
   ]
  },
  {
   "cell_type": "code",
   "execution_count": 14,
   "metadata": {
    "tags": [
     "challengify"
    ]
   },
   "outputs": [
    {
     "name": "stdout",
     "output_type": "stream",
     "text": [
      "Index: 1764, Tokenized words: [21, 52, 233, 1711, 15580, 2371, 37, 115, 2, 3349, 37, 47, 522, 370, 1, 287, 182, 11690, 4, 16104, 16105, 9750, 26306, 7174, 15816, 3, 1146, 7459, 9890, 24, 29, 49, 17, 1, 64, 6, 21, 52, 206]\n",
      "Index: 927, Tokenized words: [1041, 9791, 3304, 12916, 220, 160, 1222, 21697, 182, 4207, 5386, 2252, 21698, 21699, 5827, 2495, 21700, 4988, 14647, 7, 7, 3093, 310, 153, 79, 247, 5723, 6, 157, 8, 2, 2300, 449, 3, 10, 215, 197, 149, 1348, 185, 38, 368, 1831, 125, 1, 1326, 45, 5, 280, 299, 1, 2828, 16, 1, 322, 4, 23, 2694, 2205, 49, 247, 489, 274, 31, 3353, 1, 5687, 21701, 4988, 14647, 1, 663, 1549, 1591, 24, 2251, 2687, 230, 32, 328, 5, 3566, 1, 10184, 8665, 119, 646, 29, 499, 54, 5, 1, 4316, 4, 1, 439, 30, 21702, 21703, 3565, 1135, 7, 7, 11, 1660, 925, 1138, 215, 88, 1023, 10, 45, 2, 90, 15, 229, 271, 213, 72, 564, 1159, 1, 467, 1690, 181, 1488, 778, 726, 59, 303, 2, 346, 212, 470, 426, 35, 1, 439, 83, 451, 204, 81, 14176, 1085, 81, 1226, 6790, 1138, 5720, 14648, 2020, 5723, 2, 79, 375, 87, 754, 1509, 32, 1895, 2, 2200, 713, 14648, 996, 84, 241, 10, 6, 5, 1085, 8, 80, 5723, 819, 84, 5, 2981, 95, 54, 11, 18, 60, 27, 241, 4388, 5, 27, 90, 591, 16, 1, 287, 110, 115, 3093, 3, 1, 160, 10421, 2341, 2821, 463, 2761, 4, 38, 1, 882, 1643, 20, 3388, 275, 1717, 191, 5, 27, 675, 605, 9, 221, 88, 686, 30, 1, 1251, 284, 687, 11, 18, 201, 194, 1041, 9791, 3, 1969, 21704, 2002, 3565, 63, 1, 890, 5, 10627, 20, 12, 57, 13985, 3080, 4, 1, 3565, 1135, 5, 1104, 33, 2045, 775, 4, 6205, 17, 9, 271, 909, 5, 2055, 17, 20, 1, 2195, 429, 8733, 3265, 97, 35, 11, 20, 285, 381, 397, 12, 423, 83, 881]\n",
      "Index: 1340, Tokenized words: [16, 164, 124, 5, 74, 9, 867, 5, 787, 42, 2424, 4158, 14, 10, 13, 115, 5507, 15, 1, 618, 4, 10, 7, 7, 1, 816, 64, 219, 25, 274, 124, 41, 1, 5642, 312, 69, 1093, 32, 165, 544, 35, 24028, 158, 2277, 4372, 12, 2320, 289, 418, 5, 1201, 1, 1412, 312, 2812, 50, 1339, 24029, 3998, 478, 422, 364, 253, 4492, 59, 6, 1, 62, 282, 1445, 266, 173, 5, 753, 137, 11, 482, 7, 7, 1, 26, 1679, 1958, 13, 1, 1592, 15460, 24030, 14, 15461, 55, 769, 56, 659, 41, 62, 1, 378, 63, 76, 24031, 54, 3, 47, 1093, 4492, 98, 25, 76, 348, 7, 7, 1565, 30, 223, 1, 182, 3, 1033, 199, 2, 962, 1081, 5, 7388, 114, 1, 18, 13, 951]\n",
      "Index: 401, Tokenized words: [9, 13, 2317, 11, 18, 86, 4, 1, 57, 17, 9, 769, 415, 1, 538, 12, 9, 13, 155, 2, 2554, 18, 9, 934, 101, 12, 1389, 840, 2, 2955, 227, 3, 87, 131, 1224, 867, 5, 683, 8, 47, 553, 1013, 3, 1184, 10, 13, 2, 208, 392, 178, 224, 12, 245, 1, 497, 1142, 12, 3262, 8, 97, 35, 7452, 1, 3305, 39, 3040, 8, 1, 18795, 12, 10468, 1, 455, 3995, 1894, 1, 822, 121, 54, 3175, 68, 489, 43, 38, 1284, 5, 66, 1, 1700, 3, 18796, 11, 2570, 5, 18797, 3897, 1, 3995, 1894, 51, 9, 913, 11, 18, 9, 177, 10, 60, 27, 2, 533, 19, 3476, 5, 1, 2475, 3077, 711, 754, 1842, 5, 95, 2, 124, 19, 16, 290, 530, 4, 1, 272, 17, 32, 91, 32, 90, 2, 404, 19, 3, 83, 266, 1479, 1, 168, 10469, 4, 272, 441, 20, 3077, 711]\n",
      "Index: 898, Tokenized words: [1, 327, 4, 1, 351, 13, 1, 252, 18, 9, 25, 126, 113, 207, 1, 928, 14614, 7381, 341, 3954, 21590, 3, 1, 984, 108, 9, 1387, 1945, 9, 91, 101, 12, 1, 160, 3, 265, 2950, 98, 990, 722, 10, 13, 11244, 39, 21, 80, 48, 60, 27, 2719, 20, 26, 429, 4, 1, 1838, 3, 21, 1, 82, 9, 60, 1079, 11, 18, 2, 290, 42, 4, 171, 171, 115, 1, 106, 290, 115, 1, 252, 85, 2757, 140, 37, 1, 18, 5, 1, 689, 13, 61, 570, 10, 152, 22, 574, 41, 32, 69, 40, 251, 54, 15, 1479, 57, 9, 8538, 254, 36, 2942, 11, 21, 5, 66, 10, 44, 21, 301, 1, 57]\n"
     ]
    }
   ],
   "source": [
    "count = 0\n",
    "for i in range(len(X_train_token)):\n",
    "    if count < 5:\n",
    "        i = np.random.randint(0,len(X_train_token))\n",
    "        print(f'Index: {X_train_token.index(X_train_token[i])}, Tokenized words: {X_train_token[i]}')\n",
    "        count += 1"
   ]
  },
  {
   "cell_type": "markdown",
   "metadata": {},
   "source": [
    "The dictionary that maps each word to a token can be accessed with `tokenizer.word_index`\n",
    "    \n",
    "❓ **Question** ❓ Add a `vocab_size` variable that stores the number of different words (=tokens) in the train set. This is called the _size of the vocabulary_."
   ]
  },
  {
   "cell_type": "code",
   "execution_count": 15,
   "metadata": {
    "tags": [
     "challengify"
    ]
   },
   "outputs": [],
   "source": [
    "vocab_size = len(tokenizer.word_index)"
   ]
  },
  {
   "cell_type": "markdown",
   "metadata": {},
   "source": [
    "Your `X_train_token` and `X_test_token` contain sequences of different lengths.\n",
    "\n",
    "<img src=\"padding.png\" alt='Word2Vec' width=\"700px\" />\n",
    "\n",
    "However, a neural network has to have a tensor as input. For this reason, you have to pad your data.\n",
    "\n",
    "❓ **Question** ❓  Pad your data with the `pad_sequences` function (documentation [here](https://www.tensorflow.org/api_docs/python/tf/keras/preprocessing/sequence/pad_sequences)). Do not forget about the `dtype` and `padding` keywords (but do not use `maxlen` here)."
   ]
  },
  {
   "cell_type": "code",
   "execution_count": 16,
   "metadata": {
    "tags": [
     "challengify"
    ]
   },
   "outputs": [],
   "source": [
    "from tensorflow.keras.utils import pad_sequences"
   ]
  },
  {
   "cell_type": "code",
   "execution_count": 17,
   "metadata": {},
   "outputs": [],
   "source": [
    "X_train_token_pad = pad_sequences(\n",
    "    X_train_token,\n",
    "    maxlen=None,\n",
    "    dtype='int32',\n",
    "    padding='pre',\n",
    "    truncating='pre',\n",
    "    value=0.0\n",
    ")\n",
    "\n",
    "X_test_token_pad = pad_sequences(\n",
    "    X_test_token,\n",
    "    maxlen=None,\n",
    "    dtype='int32',\n",
    "    padding='pre',\n",
    "    truncating='pre',\n",
    "    value=0.0\n",
    ")"
   ]
  },
  {
   "cell_type": "code",
   "execution_count": 19,
   "metadata": {},
   "outputs": [
    {
     "name": "stdout",
     "output_type": "stream",
     "text": [
      "112 988\n"
     ]
    }
   ],
   "source": [
    "\n",
    "print(len(X_train_token[1]), len(X_test_token_pad[2]))"
   ]
  },
  {
   "cell_type": "code",
   "execution_count": 21,
   "metadata": {},
   "outputs": [
    {
     "name": "stdout",
     "output_type": "stream",
     "text": [
      "Length of before padded: 139, after padded: 988\n",
      "Length of before padded: 132, after padded: 988\n",
      "Length of before padded: 140, after padded: 988\n",
      "Length of before padded: 120, after padded: 988\n",
      "Length of before padded: 155, after padded: 988\n"
     ]
    }
   ],
   "source": [
    "count = 0\n",
    "for i in range(len(X_train_token)):\n",
    "    if count < 5:\n",
    "        i = np.random.randint(0,len(X_train_token))\n",
    "        print(f'Length of before padded: {len(X_train_token[i])}, after padded: {len(X_test_token_pad[i])}')\n",
    "        count += 1"
   ]
  },
  {
   "cell_type": "markdown",
   "metadata": {},
   "source": [
    "# The RNN"
   ]
  },
  {
   "cell_type": "markdown",
   "metadata": {},
   "source": [
    "Let's now feed this data to a Recurrent Neural Network.\n",
    "\n",
    "❓ **Question** ❓ Write a model that has:\n",
    "- an embedding layer whose `input_dim` is the size of your vocabulary (= your `vocab_size`), and whose `output_dim` is the size of the embedding space you want to have\n",
    "- a RNN (SimpleRNN, LSTM, GRU) layer\n",
    "- a Dense layer\n",
    "- an output layer\n",
    "\n",
    "⚠️ **Warning** ⚠️ Here, you don't need a masking layer. Why? Because `layers.Embedding` has a argument to do that directly, which you have to set with `mask_zero=True`. That also means that your data **HAS TO** be padded with **0** (which is the default behavior). See the [documentation](https://www.tensorflow.org/api_docs/python/tf/keras/layers/Embedding#example_2) to understand how it **impacts** the `input_dim`.\n",
    "\n",
    "<details>\n",
    "    <summary>💡 Hint</summary>\n",
    "\n",
    "`input_dim` should equal size of vocabulary + 1\n",
    "\n",
    "</details>\n",
    "\n",
    "Compile it with the appropriate arguments"
   ]
  },
  {
   "cell_type": "code",
   "execution_count": 22,
   "metadata": {},
   "outputs": [],
   "source": [
    "from tensorflow.keras.layers import Normalization, Embedding\n",
    "from tensorflow.keras.models import Sequential\n",
    "from tensorflow.keras.layers import Dense, SimpleRNN, Flatten, LSTM\n",
    "from tensorflow.keras import models, layers\n",
    "from tensorflow.keras.callbacks import EarlyStopping\n"
   ]
  },
  {
   "cell_type": "code",
   "execution_count": 23,
   "metadata": {},
   "outputs": [
    {
     "data": {
      "text/plain": [
       "2500"
      ]
     },
     "execution_count": 23,
     "metadata": {},
     "output_type": "execute_result"
    }
   ],
   "source": [
    "len(X_test_token_pad)"
   ]
  },
  {
   "cell_type": "code",
   "execution_count": 24,
   "metadata": {
    "tags": [
     "challengify"
    ]
   },
   "outputs": [],
   "source": [
    "def create_embedded_model():\n",
    "\n",
    "    # initializing the model\n",
    "    model = Sequential()\n",
    "\n",
    "    # adding the embedding of our dictionary\n",
    "    model.add(layers.Embedding(\n",
    "                        input_dim = vocab_size+1,\n",
    "                        input_length = len(X_train_token_pad[0]),\n",
    "                        output_dim = 20\n",
    "                 ))\n",
    "    # adding an LSTM model\n",
    "    model.add(layers.LSTM(units=20,activation='tanh'))\n",
    "\n",
    "    # adding a hidden layer\n",
    "    model.add(layers.Dense(30, activation='relu'))\n",
    "\n",
    "    # adding an output layer\n",
    "    model.add(layers.Dense(1,activation='sigmoid'))\n",
    "\n",
    "    #compiling the model\n",
    "    model.compile(\n",
    "        loss = \"binary_crossentropy\",\n",
    "        optimizer = 'adam',\n",
    "        metrics = ['accuracy']\n",
    "    )\n",
    "\n",
    "    return model"
   ]
  },
  {
   "cell_type": "markdown",
   "metadata": {},
   "source": [
    "❓ **Question** ❓ Look at the number of parameters in your RNN. "
   ]
  },
  {
   "cell_type": "code",
   "execution_count": 25,
   "metadata": {
    "tags": [
     "challengify"
    ]
   },
   "outputs": [],
   "source": [
    "model = create_embedded_model()"
   ]
  },
  {
   "cell_type": "code",
   "execution_count": 26,
   "metadata": {},
   "outputs": [
    {
     "name": "stdout",
     "output_type": "stream",
     "text": [
      "Model: \"sequential\"\n",
      "_________________________________________________________________\n",
      " Layer (type)                Output Shape              Param #   \n",
      "=================================================================\n",
      " embedding (Embedding)       (None, 1164, 20)          608400    \n",
      "                                                                 \n",
      " lstm (LSTM)                 (None, 20)                3280      \n",
      "                                                                 \n",
      " dense (Dense)               (None, 30)                630       \n",
      "                                                                 \n",
      " dense_1 (Dense)             (None, 1)                 31        \n",
      "                                                                 \n",
      "=================================================================\n",
      "Total params: 612,341\n",
      "Trainable params: 612,341\n",
      "Non-trainable params: 0\n",
      "_________________________________________________________________\n"
     ]
    }
   ],
   "source": [
    "model.summary()"
   ]
  },
  {
   "cell_type": "markdown",
   "metadata": {},
   "source": [
    "❓ Double-check that the number of parameters in your embedding layer is equal to the (number of words in your vocabulary + 1 for the masking value) $\\times$  the dimension of your embedding."
   ]
  },
  {
   "cell_type": "code",
   "execution_count": 27,
   "metadata": {
    "tags": [
     "challengify"
    ]
   },
   "outputs": [
    {
     "name": "stdout",
     "output_type": "stream",
     "text": [
      "608400\n"
     ]
    }
   ],
   "source": [
    "manual_check = (vocab_size+1) * 20\n",
    "\n",
    "print(manual_check)"
   ]
  },
  {
   "cell_type": "markdown",
   "metadata": {},
   "source": [
    "❓ **Question** ❓ Start fitting your model with 20 epochs, with an early stopping criterion whose patience is equal to 4.\n",
    "\n",
    "⚠️ **Warning** ⚠️ You might see that it takes a lot of time! \n",
    "\n",
    "**So stop it after a couple of iterations!**"
   ]
  },
  {
   "cell_type": "code",
   "execution_count": 28,
   "metadata": {
    "tags": [
     "challengify"
    ]
   },
   "outputs": [
    {
     "name": "stdout",
     "output_type": "stream",
     "text": [
      "Epoch 1/20\n",
      "63/63 [==============================] - 9s 126ms/step - loss: 0.6922 - accuracy: 0.5200 - val_loss: 0.6868 - val_accuracy: 0.5920\n",
      "Epoch 2/20\n",
      "63/63 [==============================] - 7s 116ms/step - loss: 0.5855 - accuracy: 0.7455 - val_loss: 0.5355 - val_accuracy: 0.7440\n",
      "Epoch 3/20\n",
      "63/63 [==============================] - 7s 114ms/step - loss: 0.2429 - accuracy: 0.9270 - val_loss: 0.4440 - val_accuracy: 0.8080\n",
      "Epoch 4/20\n",
      "63/63 [==============================] - 7s 114ms/step - loss: 0.0640 - accuracy: 0.9835 - val_loss: 0.5058 - val_accuracy: 0.8040\n",
      "Epoch 5/20\n",
      "63/63 [==============================] - 7s 114ms/step - loss: 0.0163 - accuracy: 0.9970 - val_loss: 0.5604 - val_accuracy: 0.8060\n",
      "Epoch 6/20\n",
      "63/63 [==============================] - 7s 115ms/step - loss: 0.0065 - accuracy: 0.9990 - val_loss: 0.6700 - val_accuracy: 0.7780\n",
      "Epoch 7/20\n",
      "63/63 [==============================] - 7s 115ms/step - loss: 0.0028 - accuracy: 1.0000 - val_loss: 0.6911 - val_accuracy: 0.8020\n"
     ]
    }
   ],
   "source": [
    "# fitting the model\n",
    "\n",
    "def fit_model(model):\n",
    "\n",
    "    es = EarlyStopping(patience=4, restore_best_weights=True)\n",
    "\n",
    "    history = model.fit(\n",
    "        X_train_token_pad,\n",
    "        y_train,\n",
    "        validation_split = 0.2,\n",
    "        batch_size = 32,\n",
    "        epochs=20,\n",
    "        callbacks = [es]\n",
    "    )\n",
    "    return history\n",
    "\n",
    "history = fit_model(model)"
   ]
  },
  {
   "cell_type": "markdown",
   "metadata": {},
   "source": [
    "Let's not waste too much time just staring at our screen or having coffees. It is too early to start having breaks ;)\n",
    "\n",
    "❓ **Question** ❓ We will reduce the computational time. To start, let's first look at how many words there are in the different sentences of your train set (Just run the following cell)."
   ]
  },
  {
   "cell_type": "code",
   "execution_count": 34,
   "metadata": {},
   "outputs": [
    {
     "data": {
      "image/png": "[encoded data removed]",
      "text/plain": [
       "<Figure size 640x480 with 1 Axes>"
      ]
     },
     "metadata": {},
     "output_type": "display_data"
    }
   ],
   "source": [
    "import matplotlib.pyplot as plt\n",
    "%matplotlib inline\n",
    "\n",
    "def plot_hist(X):\n",
    "    len_ = [len(_) for _ in X]\n",
    "    plt.hist(len_)\n",
    "    plt.title('Histogram of the number of sentences that have a given number of words')\n",
    "    plt.show()\n",
    "\n",
    "plot_hist(X_train)\n"
   ]
  },
  {
   "cell_type": "markdown",
   "metadata": {},
   "source": [
    "You will probably see that 90 to 95% of your sentences have less than 300 words. And very few have more than 1000.\n",
    "\n",
    "However, as you didn't use `maxlen` in your padding above, your input tensor has a dimension equal to the length of the sentence that has the maximum number of words.\n",
    "\n",
    "Now, let's look at how this affects the padding: \n",
    "\n",
    "\n",
    "<img src=\"tensor_size.png\" alt='Word2Vec' width=\"700px\" />\n",
    "\n",
    "Because of a few of very long sentences, one dimension of your tensor is equal to around 1000. However, most of the sentences with ~200 words have just padded values that are useless.\n",
    "\n",
    "So your tensor is mostly useless information, which still adds time to the training process.\n",
    "\n",
    "But what if you pad the data to a maximum length (`maxlen`) of say 200 (words)?\n",
    "- First, that would increase the convergence and you would not need to stare at your screen while waiting for the algorithm to converge\n",
    "- But in essence, do you really lose that much information? Do you think that you often need more than 200 words (up to 1000) to tell whether or not a sentence is positive of negative?\n",
    "\n",
    "❓ **Question** ❓ For all these reasons, re-do your padding using the `maxlen` keyword and retrain the model!  See how much faster it is now - without hurting the performance ;)"
   ]
  },
  {
   "cell_type": "code",
   "execution_count": 30,
   "metadata": {},
   "outputs": [],
   "source": [
    "X_train_token_pad_200 = pad_sequences(\n",
    "    X_train_token,\n",
    "    maxlen=200,\n",
    "    dtype='int32',\n",
    "    padding='pre',\n",
    "    truncating='pre',\n",
    "    value=0.0\n",
    ")\n",
    "\n",
    "X_test_token_pad_200 = pad_sequences(\n",
    "    X_test_token,\n",
    "    maxlen=200,\n",
    "    dtype='int32',\n",
    "    padding='pre',\n",
    "    truncating='pre',\n",
    "    value=0.0\n",
    ")"
   ]
  },
  {
   "cell_type": "code",
   "execution_count": 41,
   "metadata": {},
   "outputs": [],
   "source": [
    "\n",
    "def fit_model_200(model):\n",
    "\n",
    "    es = EarlyStopping(patience=4, restore_best_weights=True)\n",
    "\n",
    "    history = model.fit(\n",
    "        X_train_token_pad_200,\n",
    "        y_train,\n",
    "        validation_split = 0.2,\n",
    "        batch_size = 32,\n",
    "        epochs=20,\n",
    "        callbacks = [es]\n",
    "    )\n",
    "    return history"
   ]
  },
  {
   "cell_type": "code",
   "execution_count": 37,
   "metadata": {},
   "outputs": [
    {
     "data": {
      "text/plain": [
       "2500"
      ]
     },
     "execution_count": 37,
     "metadata": {},
     "output_type": "execute_result"
    }
   ],
   "source": [
    "len(X_train_token)"
   ]
  },
  {
   "cell_type": "code",
   "execution_count": 38,
   "metadata": {},
   "outputs": [],
   "source": [
    "def create_embedded_model_200():\n",
    "\n",
    "    # initializing the model\n",
    "    model = Sequential()\n",
    "\n",
    "    # adding the embedding of our dictionary\n",
    "    model.add(layers.Embedding(\n",
    "                        input_dim = vocab_size+1,\n",
    "                        input_length = 200,\n",
    "                        output_dim = 20\n",
    "                 ))\n",
    "    # adding an LSTM model\n",
    "    model.add(layers.LSTM(units=20,activation='tanh'))\n",
    "\n",
    "    # adding a hidden layer\n",
    "    model.add(layers.Dense(30, activation='relu'))\n",
    "\n",
    "    # adding an output layer\n",
    "    model.add(layers.Dense(1,activation='sigmoid'))\n",
    "\n",
    "    #compiling the model\n",
    "    model.compile(\n",
    "        loss = \"binary_crossentropy\",\n",
    "        optimizer = 'adam',\n",
    "        metrics = ['accuracy']\n",
    "    )\n",
    "\n",
    "    return model"
   ]
  },
  {
   "cell_type": "code",
   "execution_count": 42,
   "metadata": {
    "tags": [
     "challengify"
    ]
   },
   "outputs": [],
   "source": [
    "model_eff = create_embedded_model_200()"
   ]
  },
  {
   "cell_type": "code",
   "execution_count": 43,
   "metadata": {},
   "outputs": [
    {
     "name": "stdout",
     "output_type": "stream",
     "text": [
      "Epoch 1/20\n",
      "63/63 [==============================] - 2s 22ms/step - loss: 0.6924 - accuracy: 0.5140 - val_loss: 0.6894 - val_accuracy: 0.6240\n",
      "Epoch 2/20\n",
      "63/63 [==============================] - 1s 18ms/step - loss: 0.5934 - accuracy: 0.7380 - val_loss: 0.4455 - val_accuracy: 0.8040\n",
      "Epoch 3/20\n",
      "63/63 [==============================] - 1s 19ms/step - loss: 0.2205 - accuracy: 0.9275 - val_loss: 0.4327 - val_accuracy: 0.8120\n",
      "Epoch 4/20\n",
      "63/63 [==============================] - 1s 19ms/step - loss: 0.0629 - accuracy: 0.9825 - val_loss: 0.5156 - val_accuracy: 0.7940\n",
      "Epoch 5/20\n",
      "63/63 [==============================] - 1s 19ms/step - loss: 0.0125 - accuracy: 0.9975 - val_loss: 0.5110 - val_accuracy: 0.8340\n",
      "Epoch 6/20\n",
      "63/63 [==============================] - 1s 19ms/step - loss: 0.0037 - accuracy: 0.9995 - val_loss: 0.6011 - val_accuracy: 0.8280\n",
      "Epoch 7/20\n",
      "63/63 [==============================] - 1s 19ms/step - loss: 0.0015 - accuracy: 1.0000 - val_loss: 0.7614 - val_accuracy: 0.8260\n"
     ]
    }
   ],
   "source": [
    "history_eff = fit_model_200(model_eff)"
   ]
  },
  {
   "cell_type": "code",
   "execution_count": 52,
   "metadata": {},
   "outputs": [
    {
     "name": "stdout",
     "output_type": "stream",
     "text": [
      "79/79 [==============================] - 1s 15ms/step - loss: 0.4628 - accuracy: 0.7976\n",
      "79/79 [==============================] - 0s 3ms/step - loss: 0.4315 - accuracy: 0.8220\n",
      "Accuracy full length: 0.7975999712944031,-------------------Accuracy 200 length: 0.8220000267028809\n"
     ]
    }
   ],
   "source": [
    "results = model.evaluate(X_test_token_pad,y_test)\n",
    "\n",
    "results_eff = model_eff.evaluate(X_test_token_pad_200,y_test)\n",
    "\n",
    "print(f\"Accuracy full length: {results[1]},\\\n",
    "-------------------\\\n",
    "Accuracy 200 length: {results_eff[1]}\")"
   ]
  },
  {
   "cell_type": "markdown",
   "metadata": {},
   "source": [
    "🏁 Nice, you are now able to use `Tokenizer` and `pad_sequences`\n",
    "\n",
    "💾 Don't forget to git add/commit/push your notebook...\n",
    "\n",
    "🚀 ... and move on to the next challenge!"
   ]
  }
 ],
 "metadata": {
  "kernelspec": {
   "display_name": "Python 3",
   "language": "python",
   "name": "python3"
  },
  "language_info": {
   "codemirror_mode": {
    "name": "ipython",
    "version": 3
   },
   "file_extension": ".py",
   "mimetype": "text/x-python",
   "name": "python",
   "nbconvert_exporter": "python",
   "pygments_lexer": "ipython3",
   "version": "3.10.6"
  }
 },
 "nbformat": 4,
 "nbformat_minor": 4
}
